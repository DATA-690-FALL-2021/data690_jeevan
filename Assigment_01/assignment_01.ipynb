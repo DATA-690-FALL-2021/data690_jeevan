{
  "nbformat": 4,
  "nbformat_minor": 0,
  "metadata": {
    "colab": {
      "name": "assignment_01.ipynb",
      "provenance": [],
      "authorship_tag": "ABX9TyOMz+JgDDrkCi8oTgiD7Aja",
      "include_colab_link": true
    },
    "kernelspec": {
      "name": "python3",
      "display_name": "Python 3"
    },
    "language_info": {
      "name": "python"
    }
  },
  "cells": [
    {
      "cell_type": "markdown",
      "metadata": {
        "id": "view-in-github",
        "colab_type": "text"
      },
      "source": [
        "<a href=\"https://colab.research.google.com/github/jeevan0603/data690_jeevan/blob/main/Assigment_01/assignment_01.ipynb\" target=\"_parent\"><img src=\"https://colab.research.google.com/assets/colab-badge.svg\" alt=\"Open In Colab\"/></a>"
      ]
    },
    {
      "cell_type": "markdown",
      "metadata": {
        "id": "o0t4_LscOFcw"
      },
      "source": [
        "# Assigment 1 for DATA 690 Fall 2021\n",
        "\n",
        "- Instructor: Dr. jay Wang\n",
        "- Student: Jeevan Sai Sreella\n",
        "- Date: 09/02/2021\n",
        "\n",
        "This is for demonstrating the use of Jupyter Notebook"
      ]
    },
    {
      "cell_type": "markdown",
      "metadata": {
        "id": "KekQHD18QZuQ"
      },
      "source": [
        "# 1. This is simplest python code"
      ]
    },
    {
      "cell_type": "code",
      "metadata": {
        "colab": {
          "base_uri": "https://localhost:8080/"
        },
        "id": "3g6_M15gNy6-",
        "outputId": "2fb87bc7-ccb1-403b-81ac-f60512ec972b"
      },
      "source": [
        "print(\"Hello world!! \") # This is just print statement"
      ],
      "execution_count": null,
      "outputs": [
        {
          "output_type": "stream",
          "name": "stdout",
          "text": [
            "Hello world!! \n"
          ]
        }
      ]
    },
    {
      "cell_type": "markdown",
      "metadata": {
        "id": "SfodEaMnQO5e"
      },
      "source": [
        "# 2. This below code is Multiplication\n"
      ]
    },
    {
      "cell_type": "code",
      "metadata": {
        "colab": {
          "base_uri": "https://localhost:8080/"
        },
        "id": "UW0PoSzTO9nM",
        "outputId": "b4a971fd-9eb5-4158-9768-4437166515c7"
      },
      "source": [
        "x = 10 * 2\n",
        "print(x)"
      ],
      "execution_count": null,
      "outputs": [
        {
          "output_type": "stream",
          "name": "stdout",
          "text": [
            "20\n"
          ]
        }
      ]
    },
    {
      "cell_type": "markdown",
      "metadata": {
        "id": "siggf_xcQioR"
      },
      "source": [
        "# 3. This below code is Division"
      ]
    },
    {
      "cell_type": "code",
      "metadata": {
        "colab": {
          "base_uri": "https://localhost:8080/"
        },
        "id": "ql0WC8UjPhER",
        "outputId": "132b6e74-3066-4c75-a078-c2fc6c60849a"
      },
      "source": [
        "# This cell is division\n",
        "y = 100\n",
        "z = y / x\n",
        "print(z)"
      ],
      "execution_count": null,
      "outputs": [
        {
          "output_type": "stream",
          "name": "stdout",
          "text": [
            "5.0\n"
          ]
        }
      ]
    },
    {
      "cell_type": "markdown",
      "metadata": {
        "id": "-NdJ5QdPTuIW"
      },
      "source": [
        "# 4. This below code is Addition\n"
      ]
    },
    {
      "cell_type": "code",
      "metadata": {
        "id": "DHq4cGeyTy3k",
        "outputId": "e47bcc53-23af-4189-dfb1-9410619fcfa3",
        "colab": {
          "base_uri": "https://localhost:8080/"
        }
      },
      "source": [
        "# This cell is addition\n",
        "print(100+200)"
      ],
      "execution_count": 1,
      "outputs": [
        {
          "output_type": "stream",
          "name": "stdout",
          "text": [
            "300\n"
          ]
        }
      ]
    }
  ]
}