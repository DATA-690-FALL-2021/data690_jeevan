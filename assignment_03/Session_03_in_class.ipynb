{
  "nbformat": 4,
  "nbformat_minor": 0,
  "metadata": {
    "colab": {
      "name": "Session_03_in_class.ipynb",
      "provenance": [],
      "collapsed_sections": [],
      "authorship_tag": "ABX9TyMgwzurVRGH9ELw5Ef7m1w+",
      "include_colab_link": true
    },
    "kernelspec": {
      "name": "python3",
      "display_name": "Python 3"
    },
    "language_info": {
      "name": "python"
    }
  },
  "cells": [
    {
      "cell_type": "markdown",
      "metadata": {
        "id": "view-in-github",
        "colab_type": "text"
      },
      "source": [
        "<a href=\"https://colab.research.google.com/github/jeevan0603/data690_jeevan/blob/main/assignment_03/Session_03_in_class.ipynb\" target=\"_parent\"><img src=\"https://colab.research.google.com/assets/colab-badge.svg\" alt=\"Open In Colab\"/></a>"
      ]
    },
    {
      "cell_type": "markdown",
      "metadata": {
        "id": "rVbkjdtH8pq_"
      },
      "source": [
        "# Session 3 in Class Practice\n",
        "- Professor: Jay Wang\n",
        "- Student: Jeevan Sai Sreella\n",
        "- September 16\n"
      ]
    },
    {
      "cell_type": "markdown",
      "metadata": {
        "id": "r4Xyk1xm8_Zu"
      },
      "source": [
        "## 1. List Comprehension\n"
      ]
    },
    {
      "cell_type": "code",
      "metadata": {
        "colab": {
          "base_uri": "https://localhost:8080/"
        },
        "id": "frXz6Em_9FZh",
        "outputId": "3ea2cf00-179a-4843-e793-b33f7767fd97"
      },
      "source": [
        "# This is traditional way of using for loop\n",
        "\n",
        "x = [2, 5,-7, 10, 12]\n",
        "y = []\n",
        "\n",
        "for i in x:\n",
        "    new_number = i + 10\n",
        "    print(new_number)\n",
        "    y.append(new_number)\n",
        "\n",
        "print(y)"
      ],
      "execution_count": 7,
      "outputs": [
        {
          "output_type": "stream",
          "name": "stdout",
          "text": [
            "12\n",
            "15\n",
            "3\n",
            "20\n",
            "22\n",
            "[12, 15, 3, 20, 22]\n"
          ]
        }
      ]
    },
    {
      "cell_type": "code",
      "metadata": {
        "colab": {
          "base_uri": "https://localhost:8080/"
        },
        "id": "OZx6DUiZ-h00",
        "outputId": "e1121448-651e-40ec-f5f6-85a7b013a4c3"
      },
      "source": [
        "# new way of using comprehension\n",
        "\n",
        "y = [i + 10 for i in x]\n",
        "\n",
        "print(y)"
      ],
      "execution_count": 8,
      "outputs": [
        {
          "output_type": "stream",
          "name": "stdout",
          "text": [
            "[12, 15, 3, 20, 22]\n"
          ]
        }
      ]
    },
    {
      "cell_type": "markdown",
      "metadata": {
        "id": "10U5jWYn-8Fk"
      },
      "source": [
        "## 2. User defined Function"
      ]
    },
    {
      "cell_type": "code",
      "metadata": {
        "id": "WNeBjjRk-18n"
      },
      "source": [
        "# Addition\n",
        " def addition(a,b):\n",
        "    return a+b"
      ],
      "execution_count": 9,
      "outputs": []
    },
    {
      "cell_type": "code",
      "metadata": {
        "colab": {
          "base_uri": "https://localhost:8080/"
        },
        "id": "kQtbJise_tyA",
        "outputId": "ba0101b2-c5fe-4ae9-85d7-358ae732be91"
      },
      "source": [
        "y = addition(5,10)\n",
        "print(y)"
      ],
      "execution_count": 10,
      "outputs": [
        {
          "output_type": "stream",
          "name": "stdout",
          "text": [
            "15\n"
          ]
        }
      ]
    },
    {
      "cell_type": "code",
      "metadata": {
        "id": "vP8x_ZqbAD-H"
      },
      "source": [
        "# Division\n",
        "def division(a,b):\n",
        "  return a/b"
      ],
      "execution_count": 13,
      "outputs": []
    },
    {
      "cell_type": "code",
      "metadata": {
        "colab": {
          "base_uri": "https://localhost:8080/"
        },
        "id": "pBS8_96sAIeY",
        "outputId": "b781032c-15f9-4184-97bf-4a4fd3428bf3"
      },
      "source": [
        "z = division(10,5)\n",
        "print(z)"
      ],
      "execution_count": 14,
      "outputs": [
        {
          "output_type": "stream",
          "name": "stdout",
          "text": [
            "2.0\n"
          ]
        }
      ]
    }
  ]
}