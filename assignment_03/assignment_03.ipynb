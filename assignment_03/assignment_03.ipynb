{
  "nbformat": 4,
  "nbformat_minor": 0,
  "metadata": {
    "colab": {
      "name": "assignment_03.ipynb",
      "provenance": [],
      "collapsed_sections": [],
      "authorship_tag": "ABX9TyPa9AVUV8cKB5WDzxUmhEre",
      "include_colab_link": true
    },
    "kernelspec": {
      "name": "python3",
      "display_name": "Python 3"
    },
    "language_info": {
      "name": "python"
    }
  },
  "cells": [
    {
      "cell_type": "markdown",
      "metadata": {
        "id": "view-in-github",
        "colab_type": "text"
      },
      "source": [
        "<a href=\"https://colab.research.google.com/github/jeevan0603/data690_jeevan/blob/main/assignment_03/assignment_03.ipynb\" target=\"_parent\"><img src=\"https://colab.research.google.com/assets/colab-badge.svg\" alt=\"Open In Colab\"/></a>"
      ]
    },
    {
      "cell_type": "markdown",
      "metadata": {
        "id": "rJmQ0e1nJpmR"
      },
      "source": [
        "# Write a program that generates 100 random integers between 0 and 9.\n",
        "# 1. Print them in a 10 by 10 matrix neatly arranged like the following (one space between each number):\n",
        "\n"
      ]
    },
    {
      "cell_type": "code",
      "metadata": {
        "colab": {
          "base_uri": "https://localhost:8080/"
        },
        "id": "mdyLe6pb8it_",
        "outputId": "c13cd744-c9c5-45c2-faf9-837e082e585a"
      },
      "source": [
        "for i in range(10):\n",
        "  for j in range (10):\n",
        "    x = random.randint(0,9)\n",
        "    print(x, end = \" \")\n",
        "  print(\"\\n\", end = \"\")"
      ],
      "execution_count": 21,
      "outputs": [
        {
          "output_type": "stream",
          "name": "stdout",
          "text": [
            "2 4 2 7 3 5 5 7 4 9 \n",
            "9 0 0 6 7 5 7 8 5 4 \n",
            "0 6 6 6 1 3 8 7 7 0 \n",
            "1 8 3 8 0 1 3 1 6 7 \n",
            "1 9 8 9 0 3 3 7 0 7 \n",
            "5 1 7 1 6 7 1 4 4 5 \n",
            "2 0 7 7 4 4 6 8 6 9 \n",
            "5 7 4 6 0 4 2 8 8 4 \n",
            "6 5 5 4 5 8 7 3 2 7 \n",
            "8 9 7 7 5 2 8 3 9 7 \n"
          ]
        }
      ]
    },
    {
      "cell_type": "markdown",
      "metadata": {
        "id": "KYxzOwN6J_Sv"
      },
      "source": [
        "# 2. If the random number is an odd number, print \"@\" instead. like the following:\n"
      ]
    },
    {
      "cell_type": "code",
      "metadata": {
        "colab": {
          "base_uri": "https://localhost:8080/"
        },
        "id": "_CYIbZfQCpf0",
        "outputId": "35e4efe7-3572-4113-a7a2-08eb05e334ab"
      },
      "source": [
        "for i in range(10):\n",
        "  for j in range(10):\n",
        "    x = random.randint(0,9)\n",
        "    if( x % 2 != 0):\n",
        "      x ='@'\n",
        "    print(x, end = \" \")\n",
        "  print(\"\\n\", end = \"\")"
      ],
      "execution_count": 19,
      "outputs": [
        {
          "output_type": "stream",
          "name": "stdout",
          "text": [
            "6 @ 6 @ @ 0 6 @ 0 4 \n",
            "2 @ 8 2 0 @ @ @ @ 8 \n",
            "8 @ 0 @ 6 4 @ 4 @ 4 \n",
            "@ 2 @ @ 6 8 8 2 0 4 \n",
            "@ 2 @ @ @ @ 0 @ 0 6 \n",
            "@ @ @ 6 8 2 @ @ @ @ \n",
            "4 4 2 6 @ @ 8 @ 6 0 \n",
            "@ @ 6 4 8 @ @ 0 6 @ \n",
            "@ 0 8 @ @ @ @ 6 @ 0 \n",
            "@ 0 @ 6 0 @ 2 @ @ @ \n"
          ]
        }
      ]
    },
    {
      "cell_type": "markdown",
      "metadata": {
        "id": "SK0uufBIKFzi"
      },
      "source": [
        "# 3. Calculate and Print the total of each row like the following (use \"*\" to separate the total from the numbers):"
      ]
    },
    {
      "cell_type": "code",
      "metadata": {
        "colab": {
          "base_uri": "https://localhost:8080/"
        },
        "id": "8-aP-FgvERs1",
        "outputId": "5697cae9-eb03-4031-e2c8-115e0efb37d4"
      },
      "source": [
        "for i in range(10):\n",
        "  a = 0\n",
        "  for j in range(10):\n",
        "    x = random.randint(0,9)\n",
        "    a+=x\n",
        "    print(x, end=\" \")\n",
        "  print(\"*\", a)"
      ],
      "execution_count": 27,
      "outputs": [
        {
          "output_type": "stream",
          "name": "stdout",
          "text": [
            "0 2 1 0 7 3 8 9 4 4 * 38\n",
            "9 8 9 0 1 6 4 8 9 7 * 61\n",
            "9 8 0 5 4 6 0 7 9 5 * 53\n",
            "6 6 6 4 2 5 7 3 3 4 * 46\n",
            "2 2 3 9 5 9 9 8 1 0 * 48\n",
            "9 6 3 7 9 5 3 1 7 1 * 51\n",
            "9 7 6 0 0 1 0 0 3 9 * 35\n",
            "5 0 9 2 6 2 9 7 1 7 * 48\n",
            "7 7 4 8 2 4 0 9 0 4 * 45\n",
            "7 2 7 5 1 3 3 0 9 2 * 39\n"
          ]
        }
      ]
    },
    {
      "cell_type": "markdown",
      "metadata": {
        "id": "Ahv-0IHfKPKl"
      },
      "source": [
        "# Optional: Surround the matrix with asterisks (*) like the following:\n"
      ]
    },
    {
      "cell_type": "code",
      "metadata": {
        "colab": {
          "base_uri": "https://localhost:8080/"
        },
        "id": "ZJ3-bGBELpx4",
        "outputId": "9ea00154-5b6e-4fef-ad7c-4d50c01cbce1"
      },
      "source": [
        "for i in range(12):\n",
        "  if(i == 0 or i == 11):\n",
        "    print(\"**\", end =\"\")\n",
        "  else:  \n",
        "   print(\"* \", end =\"\")\n",
        "  for j in range(10):\n",
        "    if(i == 0 or i == 11):\n",
        "      print(\"**\", end = \"\")\n",
        "    else:\n",
        "      x = random.randint(0,9)\n",
        "      print(x, end =\" \")\n",
        "  print(\"*\",)"
      ],
      "execution_count": 83,
      "outputs": [
        {
          "output_type": "stream",
          "name": "stdout",
          "text": [
            "***********************\n",
            "* 3 4 2 4 2 3 8 5 0 1 *\n",
            "* 0 1 3 2 5 6 2 8 2 7 *\n",
            "* 9 5 0 8 7 7 2 2 0 4 *\n",
            "* 7 1 3 5 2 3 7 6 8 2 *\n",
            "* 9 9 8 8 2 8 6 4 4 1 *\n",
            "* 4 4 4 7 7 0 5 4 6 6 *\n",
            "* 8 8 5 8 8 6 0 1 4 5 *\n",
            "* 6 5 6 1 2 5 9 6 4 6 *\n",
            "* 4 1 5 2 1 0 8 9 7 8 *\n",
            "* 7 6 1 4 5 4 0 6 5 5 *\n",
            "***********************\n"
          ]
        }
      ]
    },
    {
      "cell_type": "markdown",
      "metadata": {
        "id": "9z0EiZE5Kboe"
      },
      "source": [
        "# Optional (challenging): Calculate and Print the total of each row and column like the following:"
      ]
    },
    {
      "cell_type": "code",
      "metadata": {
        "colab": {
          "base_uri": "https://localhost:8080/"
        },
        "id": "CBJxQHPlTJxK",
        "outputId": "91c06cfe-85f8-4173-8951-5d25de5d7d62"
      },
      "source": [
        "import numpy as np\n",
        "randnums = np.random.randint(0,9,size = (12,12))\n",
        "\n",
        "b= [0,0,0,0,0,0,0,0,0,0]\n",
        "for i in range(10):\n",
        "  a = 0\n",
        "  for j in range(10):\n",
        "    print(randnums[i][j], end =\"  \")\n",
        "    a+= randnums[i][j] \n",
        "    b[i] += randnums[j][i]\n",
        "  print(\"*\", a)\n",
        "print(10 * \"*  \", \"\\n\", end = \"\")\n",
        "print(*b, end = \"\")"
      ],
      "execution_count": 217,
      "outputs": [
        {
          "output_type": "stream",
          "name": "stdout",
          "text": [
            "8  3  7  7  0  5  1  7  3  3  * 44\n",
            "6  7  5  8  6  5  6  1  6  8  * 58\n",
            "4  3  6  5  0  8  6  4  0  7  * 43\n",
            "1  0  6  7  1  7  3  5  3  5  * 38\n",
            "8  7  3  4  1  4  5  8  4  2  * 46\n",
            "0  6  1  5  2  7  7  3  0  0  * 31\n",
            "5  2  4  3  8  8  4  5  0  5  * 44\n",
            "5  3  1  2  1  2  8  1  2  6  * 31\n",
            "7  7  5  2  2  0  2  0  6  3  * 34\n",
            "2  4  2  4  8  0  0  0  8  4  * 32\n",
            "*  *  *  *  *  *  *  *  *  *   \n",
            "46 42 40 47 29 46 42 34 32 43"
          ]
        }
      ]
    }
  ]
}