{
  "nbformat": 4,
  "nbformat_minor": 0,
  "metadata": {
    "colab": {
      "name": "in_session_practices.ipynb",
      "provenance": [],
      "authorship_tag": "ABX9TyO2mQ/v783ZYqyDF5BEwdv3",
      "include_colab_link": true
    },
    "kernelspec": {
      "name": "python3",
      "display_name": "Python 3"
    },
    "language_info": {
      "name": "python"
    }
  },
  "cells": [
    {
      "cell_type": "markdown",
      "metadata": {
        "id": "view-in-github",
        "colab_type": "text"
      },
      "source": [
        "<a href=\"https://colab.research.google.com/github/jeevan0603/data690_jeevan/blob/main/assignment_02/in_session_practices.ipynb\" target=\"_parent\"><img src=\"https://colab.research.google.com/assets/colab-badge.svg\" alt=\"Open In Colab\"/></a>"
      ]
    },
    {
      "cell_type": "markdown",
      "metadata": {
        "id": "hvJFFXGT-j_d"
      },
      "source": [
        "# In - Session Hands-on practices\n",
        "Jeevan Sai Sreella\n",
        "\n"
      ]
    },
    {
      "cell_type": "markdown",
      "metadata": {
        "id": "9LO2JQWG_TsW"
      },
      "source": [
        "## 1. Simple Types\n",
        "- int\n",
        "- float\n",
        "- str\n",
        "- boolean (True/False, First letter UpperCase)\n",
        "- NaN (Not a Number, null value)"
      ]
    },
    {
      "cell_type": "code",
      "metadata": {
        "colab": {
          "base_uri": "https://localhost:8080/"
        },
        "id": "iFUn0kaG-w12",
        "outputId": "d530b2e0-5a0e-4d28-d415-a5c3b6d36570"
      },
      "source": [
        "x = 5     # integer\n",
        "y = 0.5   #float\n",
        "s = \"Hello\"  # string, a collection of characters\n",
        "print(x, y, s)"
      ],
      "execution_count": null,
      "outputs": [
        {
          "output_type": "stream",
          "name": "stdout",
          "text": [
            "5 0.5 Hello\n"
          ]
        }
      ]
    },
    {
      "cell_type": "code",
      "metadata": {
        "colab": {
          "base_uri": "https://localhost:8080/"
        },
        "id": "dUD5gVCQ_5N8",
        "outputId": "15154576-979b-42d8-93ac-a741ecef3863"
      },
      "source": [
        "type(x)"
      ],
      "execution_count": null,
      "outputs": [
        {
          "output_type": "execute_result",
          "data": {
            "text/plain": [
              "int"
            ]
          },
          "metadata": {},
          "execution_count": 10
        }
      ]
    },
    {
      "cell_type": "code",
      "metadata": {
        "colab": {
          "base_uri": "https://localhost:8080/"
        },
        "id": "V0yE6NNtAHKs",
        "outputId": "6d297f65-7f58-4163-b107-9fb8c9224a00"
      },
      "source": [
        "type(s)"
      ],
      "execution_count": null,
      "outputs": [
        {
          "output_type": "execute_result",
          "data": {
            "text/plain": [
              "str"
            ]
          },
          "metadata": {},
          "execution_count": 9
        }
      ]
    },
    {
      "cell_type": "markdown",
      "metadata": {
        "id": "l6tVjTSD_ZCP"
      },
      "source": [
        "## 2. Collection Type"
      ]
    },
    {
      "cell_type": "code",
      "metadata": {
        "colab": {
          "base_uri": "https://localhost:8080/"
        },
        "id": "m_AU5g16_Iz0",
        "outputId": "3d066e4a-0fe6-4be1-be30-0fe4454f02e4"
      },
      "source": [
        "a_list = [1, 4, 7, 10]\n",
        "print(a_list)"
      ],
      "execution_count": null,
      "outputs": [
        {
          "output_type": "stream",
          "name": "stdout",
          "text": [
            "[1, 4, 7, 10]\n"
          ]
        }
      ]
    },
    {
      "cell_type": "code",
      "metadata": {
        "colab": {
          "base_uri": "https://localhost:8080/"
        },
        "id": "JWXYDy8y_zPz",
        "outputId": "44d3d162-b5cd-4c84-e02b-7d1935fa0f8b"
      },
      "source": [
        "type(a_list)"
      ],
      "execution_count": null,
      "outputs": [
        {
          "output_type": "execute_result",
          "data": {
            "text/plain": [
              "list"
            ]
          },
          "metadata": {},
          "execution_count": 4
        }
      ]
    },
    {
      "cell_type": "markdown",
      "metadata": {
        "id": "g2s1O7PfAOaC"
      },
      "source": [
        "## 3. Loop"
      ]
    },
    {
      "cell_type": "code",
      "metadata": {
        "colab": {
          "base_uri": "https://localhost:8080/"
        },
        "id": "IU-UY7GSARhp",
        "outputId": "62cabbdd-ba53-4728-9a06-31d06da72a7c"
      },
      "source": [
        "for i in a_list:\n",
        "  print(\"integer\", i)"
      ],
      "execution_count": null,
      "outputs": [
        {
          "output_type": "stream",
          "name": "stdout",
          "text": [
            "integer 1\n",
            "integer 4\n",
            "integer 7\n",
            "integer 10\n"
          ]
        }
      ]
    },
    {
      "cell_type": "markdown",
      "metadata": {
        "id": "D3DJvn6IBqvh"
      },
      "source": [
        "## 4. Conditions"
      ]
    },
    {
      "cell_type": "code",
      "metadata": {
        "colab": {
          "base_uri": "https://localhost:8080/"
        },
        "id": "eNF6U5vXB26I",
        "outputId": "20820072-395a-4798-cdc8-2ad2d6a95e6f"
      },
      "source": [
        "print(10%2)  # modula"
      ],
      "execution_count": null,
      "outputs": [
        {
          "output_type": "stream",
          "name": "stdout",
          "text": [
            "0\n"
          ]
        }
      ]
    },
    {
      "cell_type": "code",
      "metadata": {
        "colab": {
          "base_uri": "https://localhost:8080/"
        },
        "id": "ZOIziZ1ZCBkZ",
        "outputId": "b5910248-fd22-49c1-9a5c-c934cfb185b0"
      },
      "source": [
        "print(23%2)"
      ],
      "execution_count": null,
      "outputs": [
        {
          "output_type": "stream",
          "name": "stdout",
          "text": [
            "1\n"
          ]
        }
      ]
    },
    {
      "cell_type": "code",
      "metadata": {
        "colab": {
          "base_uri": "https://localhost:8080/"
        },
        "id": "juKlpRLqBe1m",
        "outputId": "aedfbc9b-ab48-409e-82b4-05c922ac21e5"
      },
      "source": [
        "for i in a_list:\n",
        "  if i%2 != 0:\n",
        "    print(\"odd number\", i)"
      ],
      "execution_count": null,
      "outputs": [
        {
          "output_type": "stream",
          "name": "stdout",
          "text": [
            "odd number 1\n",
            "odd number 7\n"
          ]
        }
      ]
    },
    {
      "cell_type": "markdown",
      "metadata": {
        "id": "siaVr6CdMpxh"
      },
      "source": [
        "## 5. Python Build -in functions\n",
        " - range()\n",
        " - list()\n",
        " - int()\n",
        " - str()"
      ]
    },
    {
      "cell_type": "code",
      "metadata": {
        "id": "D961QGcaLEQ6",
        "outputId": "25982759-1df5-411b-af25-dd0960a68627",
        "colab": {
          "base_uri": "https://localhost:8080/"
        }
      },
      "source": [
        "for i in range(10,21,2):     # start = 10, stop =21 (upto 20 not including 21) step = 2\n",
        "   print(i)"
      ],
      "execution_count": 2,
      "outputs": [
        {
          "output_type": "stream",
          "name": "stdout",
          "text": [
            "10\n",
            "12\n",
            "14\n",
            "16\n",
            "18\n",
            "20\n"
          ]
        }
      ]
    },
    {
      "cell_type": "code",
      "metadata": {
        "id": "9f4lE5c7Lilk",
        "outputId": "e7f88f79-ea6b-43ab-9013-ae5cfd6a2c88",
        "colab": {
          "base_uri": "https://localhost:8080/"
        }
      },
      "source": [
        "for j in range(0,5):\n",
        "  print(j)"
      ],
      "execution_count": 4,
      "outputs": [
        {
          "output_type": "stream",
          "name": "stdout",
          "text": [
            "0\n",
            "1\n",
            "2\n",
            "3\n",
            "4\n"
          ]
        }
      ]
    },
    {
      "cell_type": "code",
      "metadata": {
        "id": "b_GKcbPJMSud",
        "outputId": "3ce4ee9c-1df7-48e3-ee4c-fa8e5ed6fb8c",
        "colab": {
          "base_uri": "https://localhost:8080/"
        }
      },
      "source": [
        "\n",
        "print(list(range(0,5)))\n"
      ],
      "execution_count": 7,
      "outputs": [
        {
          "output_type": "stream",
          "name": "stdout",
          "text": [
            "[0, 1, 2, 3, 4]\n"
          ]
        }
      ]
    },
    {
      "cell_type": "code",
      "metadata": {
        "id": "vcndl8tqM2G1",
        "outputId": "16b205d0-0a18-4796-b316-966044f60606",
        "colab": {
          "base_uri": "https://localhost:8080/"
        }
      },
      "source": [
        "x = \"50\"\n",
        "type(x)"
      ],
      "execution_count": 9,
      "outputs": [
        {
          "output_type": "execute_result",
          "data": {
            "text/plain": [
              "str"
            ]
          },
          "metadata": {},
          "execution_count": 9
        }
      ]
    },
    {
      "cell_type": "code",
      "metadata": {
        "id": "K-V9gZhSM_bX",
        "outputId": "9b499bff-11fc-469d-c610-9a84bf274e2b",
        "colab": {
          "base_uri": "https://localhost:8080/"
        }
      },
      "source": [
        "y = int(x)\n",
        "type(y)"
      ],
      "execution_count": 12,
      "outputs": [
        {
          "output_type": "execute_result",
          "data": {
            "text/plain": [
              "int"
            ]
          },
          "metadata": {},
          "execution_count": 12
        }
      ]
    },
    {
      "cell_type": "code",
      "metadata": {
        "id": "jlM5CIcpNHyK",
        "outputId": "22dca9f8-0bc4-4a9b-a457-68f72b35fad6",
        "colab": {
          "base_uri": "https://localhost:8080/"
        }
      },
      "source": [
        "print(x,y)"
      ],
      "execution_count": 13,
      "outputs": [
        {
          "output_type": "stream",
          "name": "stdout",
          "text": [
            "50 50\n"
          ]
        }
      ]
    },
    {
      "cell_type": "markdown",
      "metadata": {
        "id": "1bH8DyJjNwRF"
      },
      "source": [
        "## 6. Accepting user inputs"
      ]
    },
    {
      "cell_type": "code",
      "metadata": {
        "id": "tWDDKpayNxaq",
        "outputId": "aa4e1bc5-a936-4eb5-daed-8e35bcc77087",
        "colab": {
          "base_uri": "https://localhost:8080/"
        }
      },
      "source": [
        "x = input(\"Enter an integer: \")"
      ],
      "execution_count": 16,
      "outputs": [
        {
          "name": "stdout",
          "output_type": "stream",
          "text": [
            "Enter an integer: 10\n"
          ]
        }
      ]
    },
    {
      "cell_type": "code",
      "metadata": {
        "id": "NOtakO7CN6U-",
        "outputId": "c44c4c7e-e194-4b5a-9aea-0136783a3eb3",
        "colab": {
          "base_uri": "https://localhost:8080/"
        }
      },
      "source": [
        "print(x)"
      ],
      "execution_count": 20,
      "outputs": [
        {
          "output_type": "stream",
          "name": "stdout",
          "text": [
            "10\n"
          ]
        }
      ]
    },
    {
      "cell_type": "code",
      "metadata": {
        "id": "hoda9CKOOC5-",
        "outputId": "109d31da-621c-4db2-c8a2-3e8e66d5e0a8",
        "colab": {
          "base_uri": "https://localhost:8080/"
        }
      },
      "source": [
        "type(x)"
      ],
      "execution_count": 21,
      "outputs": [
        {
          "output_type": "execute_result",
          "data": {
            "text/plain": [
              "str"
            ]
          },
          "metadata": {},
          "execution_count": 21
        }
      ]
    },
    {
      "cell_type": "code",
      "metadata": {
        "id": "issxN79uOHOF",
        "outputId": "e76f2d88-02d0-470e-958e-b099ec2822f9",
        "colab": {
          "base_uri": "https://localhost:8080/"
        }
      },
      "source": [
        "x = input(\"Enter an integer: \")"
      ],
      "execution_count": 22,
      "outputs": [
        {
          "name": "stdout",
          "output_type": "stream",
          "text": [
            "Enter an integer: Jeevan\n"
          ]
        }
      ]
    },
    {
      "cell_type": "code",
      "metadata": {
        "id": "bWfTJMx0OLGg",
        "outputId": "e1983408-bd48-49d0-af00-edda30eee11f",
        "colab": {
          "base_uri": "https://localhost:8080/"
        }
      },
      "source": [
        "print(x)"
      ],
      "execution_count": 23,
      "outputs": [
        {
          "output_type": "stream",
          "name": "stdout",
          "text": [
            "Jeevan\n"
          ]
        }
      ]
    },
    {
      "cell_type": "markdown",
      "metadata": {
        "id": "5b7u5sAoOdXO"
      },
      "source": [
        "## 7. Exception handling"
      ]
    },
    {
      "cell_type": "code",
      "metadata": {
        "id": "lj23-bS7Oghi",
        "outputId": "646b3e99-8d34-4967-95fa-1ec0d44d4a58",
        "colab": {
          "base_uri": "https://localhost:8080/",
          "height": 181
        }
      },
      "source": [
        "y = int(x)\n",
        "print(y)"
      ],
      "execution_count": 33,
      "outputs": [
        {
          "output_type": "error",
          "ename": "ValueError",
          "evalue": "ignored",
          "traceback": [
            "\u001b[0;31m---------------------------------------------------------------------------\u001b[0m",
            "\u001b[0;31mValueError\u001b[0m                                Traceback (most recent call last)",
            "\u001b[0;32m<ipython-input-33-049714fa7447>\u001b[0m in \u001b[0;36m<module>\u001b[0;34m()\u001b[0m\n\u001b[0;32m----> 1\u001b[0;31m \u001b[0my\u001b[0m \u001b[0;34m=\u001b[0m \u001b[0mint\u001b[0m\u001b[0;34m(\u001b[0m\u001b[0mx\u001b[0m\u001b[0;34m)\u001b[0m\u001b[0;34m\u001b[0m\u001b[0;34m\u001b[0m\u001b[0m\n\u001b[0m\u001b[1;32m      2\u001b[0m \u001b[0mprint\u001b[0m\u001b[0;34m(\u001b[0m\u001b[0my\u001b[0m\u001b[0;34m)\u001b[0m\u001b[0;34m\u001b[0m\u001b[0;34m\u001b[0m\u001b[0m\n",
            "\u001b[0;31mValueError\u001b[0m: invalid literal for int() with base 10: 'Jeevan'"
          ]
        }
      ]
    },
    {
      "cell_type": "code",
      "metadata": {
        "id": "HADGHNFZOrEz",
        "outputId": "8e949686-7717-463a-ab86-b52800857367",
        "colab": {
          "base_uri": "https://localhost:8080/"
        }
      },
      "source": [
        "y = int(\"50\")\n",
        "print(y)"
      ],
      "execution_count": 26,
      "outputs": [
        {
          "output_type": "stream",
          "name": "stdout",
          "text": [
            "50\n"
          ]
        }
      ]
    },
    {
      "cell_type": "code",
      "metadata": {
        "id": "7RML2LZJO7PN",
        "outputId": "40051647-ec85-496c-9a9e-d0e59f8fa29e",
        "colab": {
          "base_uri": "https://localhost:8080/"
        }
      },
      "source": [
        "x = input(\"Please enter an integer: \")\n",
        "try:\n",
        "  y = int(x)\n",
        "  print(\"got integer:\", y)\n",
        "except:\n",
        "   print(\"Unable to convert the user input to an integer\")    "
      ],
      "execution_count": 32,
      "outputs": [
        {
          "output_type": "stream",
          "name": "stdout",
          "text": [
            "Please enter an integer: Jeevan\n",
            "Unable to convert the user input to an integer\n"
          ]
        }
      ]
    },
    {
      "cell_type": "markdown",
      "metadata": {
        "id": "QB4ibSFEPxAU"
      },
      "source": [
        "## 7. Infinite loop"
      ]
    },
    {
      "cell_type": "code",
      "metadata": {
        "id": "1ExgWgZnPuNb",
        "outputId": "8a8826a6-621a-4a2f-c300-745580b26354",
        "colab": {
          "base_uri": "https://localhost:8080/"
        }
      },
      "source": [
        "while True:\n",
        "  x = input(\"Please enter an integer: \")\n",
        "  try:\n",
        "    y = int(x)\n",
        "    print(\"got integer:\", y) \n",
        "    break\n",
        "  except:\n",
        "    print(\"You must enter an integer. Please try again\")    "
      ],
      "execution_count": 39,
      "outputs": [
        {
          "output_type": "stream",
          "name": "stdout",
          "text": [
            "Please enter an integer: Jeevan\n",
            "You must enter an integer. Please try again\n",
            "Please enter an integer: class\n",
            "You must enter an integer. Please try again\n",
            "Please enter an integer: 45you\n",
            "You must enter an integer. Please try again\n",
            "Please enter an integer: -12\n",
            "got integer: -12\n"
          ]
        }
      ]
    }
  ]
}