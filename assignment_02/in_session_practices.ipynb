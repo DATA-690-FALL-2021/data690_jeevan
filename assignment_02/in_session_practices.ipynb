{
  "nbformat": 4,
  "nbformat_minor": 0,
  "metadata": {
    "colab": {
      "name": "in_session_practices.ipynb",
      "provenance": [],
      "authorship_tag": "ABX9TyObCzn/aUIxqenq0yDyrhzI",
      "include_colab_link": true
    },
    "kernelspec": {
      "name": "python3",
      "display_name": "Python 3"
    },
    "language_info": {
      "name": "python"
    }
  },
  "cells": [
    {
      "cell_type": "markdown",
      "metadata": {
        "id": "view-in-github",
        "colab_type": "text"
      },
      "source": [
        "<a href=\"https://colab.research.google.com/github/jeevan0603/data690_jeevan/blob/main/assignment_02/in_session_practices.ipynb\" target=\"_parent\"><img src=\"https://colab.research.google.com/assets/colab-badge.svg\" alt=\"Open In Colab\"/></a>"
      ]
    },
    {
      "cell_type": "markdown",
      "metadata": {
        "id": "hvJFFXGT-j_d"
      },
      "source": [
        "# In - Session Hands-on practices\n",
        "Jeevan Sai Sreella\n",
        "\n"
      ]
    },
    {
      "cell_type": "markdown",
      "metadata": {
        "id": "9LO2JQWG_TsW"
      },
      "source": [
        "## 1. Simple Types\n"
      ]
    },
    {
      "cell_type": "code",
      "metadata": {
        "colab": {
          "base_uri": "https://localhost:8080/"
        },
        "id": "iFUn0kaG-w12",
        "outputId": "d530b2e0-5a0e-4d28-d415-a5c3b6d36570"
      },
      "source": [
        "x = 5     # integer\n",
        "y = 0.5   #float\n",
        "s = \"Hello\"  # string, a collection of characters\n",
        "print(x, y, s)"
      ],
      "execution_count": 2,
      "outputs": [
        {
          "output_type": "stream",
          "name": "stdout",
          "text": [
            "5 0.5 Hello\n"
          ]
        }
      ]
    },
    {
      "cell_type": "code",
      "metadata": {
        "colab": {
          "base_uri": "https://localhost:8080/"
        },
        "id": "dUD5gVCQ_5N8",
        "outputId": "15154576-979b-42d8-93ac-a741ecef3863"
      },
      "source": [
        "type(x)"
      ],
      "execution_count": 10,
      "outputs": [
        {
          "output_type": "execute_result",
          "data": {
            "text/plain": [
              "int"
            ]
          },
          "metadata": {},
          "execution_count": 10
        }
      ]
    },
    {
      "cell_type": "code",
      "metadata": {
        "colab": {
          "base_uri": "https://localhost:8080/"
        },
        "id": "V0yE6NNtAHKs",
        "outputId": "6d297f65-7f58-4163-b107-9fb8c9224a00"
      },
      "source": [
        "type(s)"
      ],
      "execution_count": 9,
      "outputs": [
        {
          "output_type": "execute_result",
          "data": {
            "text/plain": [
              "str"
            ]
          },
          "metadata": {},
          "execution_count": 9
        }
      ]
    },
    {
      "cell_type": "markdown",
      "metadata": {
        "id": "l6tVjTSD_ZCP"
      },
      "source": [
        "## 2. Collection Type"
      ]
    },
    {
      "cell_type": "code",
      "metadata": {
        "colab": {
          "base_uri": "https://localhost:8080/"
        },
        "id": "m_AU5g16_Iz0",
        "outputId": "3d066e4a-0fe6-4be1-be30-0fe4454f02e4"
      },
      "source": [
        "a_list = [1, 4, 7, 10]\n",
        "print(a_list)"
      ],
      "execution_count": 3,
      "outputs": [
        {
          "output_type": "stream",
          "name": "stdout",
          "text": [
            "[1, 4, 7, 10]\n"
          ]
        }
      ]
    },
    {
      "cell_type": "code",
      "metadata": {
        "colab": {
          "base_uri": "https://localhost:8080/"
        },
        "id": "JWXYDy8y_zPz",
        "outputId": "44d3d162-b5cd-4c84-e02b-7d1935fa0f8b"
      },
      "source": [
        "type(a_list)"
      ],
      "execution_count": 4,
      "outputs": [
        {
          "output_type": "execute_result",
          "data": {
            "text/plain": [
              "list"
            ]
          },
          "metadata": {},
          "execution_count": 4
        }
      ]
    },
    {
      "cell_type": "markdown",
      "metadata": {
        "id": "g2s1O7PfAOaC"
      },
      "source": [
        "## 3. Loop"
      ]
    },
    {
      "cell_type": "code",
      "metadata": {
        "colab": {
          "base_uri": "https://localhost:8080/"
        },
        "id": "IU-UY7GSARhp",
        "outputId": "62cabbdd-ba53-4728-9a06-31d06da72a7c"
      },
      "source": [
        "for i in a_list:\n",
        "  print(\"integer\", i)"
      ],
      "execution_count": 15,
      "outputs": [
        {
          "output_type": "stream",
          "name": "stdout",
          "text": [
            "integer 1\n",
            "integer 4\n",
            "integer 7\n",
            "integer 10\n"
          ]
        }
      ]
    },
    {
      "cell_type": "markdown",
      "metadata": {
        "id": "D3DJvn6IBqvh"
      },
      "source": [
        "## 4. Conditions"
      ]
    },
    {
      "cell_type": "code",
      "metadata": {
        "colab": {
          "base_uri": "https://localhost:8080/"
        },
        "id": "eNF6U5vXB26I",
        "outputId": "20820072-395a-4798-cdc8-2ad2d6a95e6f"
      },
      "source": [
        "print(10%2)  # modula"
      ],
      "execution_count": 17,
      "outputs": [
        {
          "output_type": "stream",
          "name": "stdout",
          "text": [
            "0\n"
          ]
        }
      ]
    },
    {
      "cell_type": "code",
      "metadata": {
        "colab": {
          "base_uri": "https://localhost:8080/"
        },
        "id": "ZOIziZ1ZCBkZ",
        "outputId": "b5910248-fd22-49c1-9a5c-c934cfb185b0"
      },
      "source": [
        "print(23%2)"
      ],
      "execution_count": 18,
      "outputs": [
        {
          "output_type": "stream",
          "name": "stdout",
          "text": [
            "1\n"
          ]
        }
      ]
    },
    {
      "cell_type": "code",
      "metadata": {
        "colab": {
          "base_uri": "https://localhost:8080/"
        },
        "id": "juKlpRLqBe1m",
        "outputId": "aedfbc9b-ab48-409e-82b4-05c922ac21e5"
      },
      "source": [
        "for i in a_list:\n",
        "  if i%2 != 0:\n",
        "    print(\"odd number\", i)"
      ],
      "execution_count": 20,
      "outputs": [
        {
          "output_type": "stream",
          "name": "stdout",
          "text": [
            "odd number 1\n",
            "odd number 7\n"
          ]
        }
      ]
    }
  ]
}