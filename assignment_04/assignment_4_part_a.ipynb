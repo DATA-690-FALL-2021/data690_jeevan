{
  "nbformat": 4,
  "nbformat_minor": 0,
  "metadata": {
    "colab": {
      "name": "assignment 4 -part a.ipynb",
      "provenance": [],
      "collapsed_sections": [],
      "authorship_tag": "ABX9TyMLvRkqLoVMNFRl2THztBBb",
      "include_colab_link": true
    },
    "kernelspec": {
      "name": "python3",
      "display_name": "Python 3"
    },
    "language_info": {
      "name": "python"
    }
  },
  "cells": [
    {
      "cell_type": "markdown",
      "metadata": {
        "id": "view-in-github",
        "colab_type": "text"
      },
      "source": [
        "<a href=\"https://colab.research.google.com/github/jeevan0603/data690_jeevan/blob/main/assignment_04/assignment_4_part_a.ipynb\" target=\"_parent\"><img src=\"https://colab.research.google.com/assets/colab-badge.svg\" alt=\"Open In Colab\"/></a>"
      ]
    },
    {
      "cell_type": "markdown",
      "metadata": {
        "id": "Jq2ZwGlSdeL3"
      },
      "source": [
        "## Assignment 4 - Part A\n"
      ]
    },
    {
      "cell_type": "markdown",
      "metadata": {
        "id": "ShLkZgD4dhCT"
      },
      "source": [
        "## Open text file and print"
      ]
    },
    {
      "cell_type": "code",
      "metadata": {
        "colab": {
          "base_uri": "https://localhost:8080/"
        },
        "id": "O1N8IQl1adoN",
        "outputId": "f89c6e55-314b-4cd1-9f86-3f5ce74b8553"
      },
      "source": [
        "with open(\"/content/census_costs.txt\", \"r\") as f:\n",
        "  linelist = f.readlines()\n",
        "print(linelist)"
      ],
      "execution_count": 4,
      "outputs": [
        {
          "output_type": "stream",
          "name": "stdout",
          "text": [
            "['Source: https://www.genealogybranches.com/censuscosts.html\\n', 'Census Year\\tTotal Population\\tCensus Cost\\tAverage Cost Per Person\\n', '1790\\t3,929,214\\t$44,377\\t1.13 cents\\n', '1800\\t5,308,483\\t$66,109\\t1.24 cents\\n', '1810\\t7,239,881\\t$178,445\\t2.46 cents\\n', '1820\\t9,633,822\\t$208,526\\t2.16 cents\\n', '1830\\t12,866,020\\t$378,545\\t2.94 cents\\n', '1840\\t17,069,458\\t$833,371\\t4.88 cents\\n', '1850\\t23,191,876\\t$1,423,351\\t6.14 cents\\n', '1860\\t31,443,321\\t$1,969,377\\t6.26 cents\\n', '1870\\t38,558,371\\t$3,421,198\\t8.87 cents\\n', '1880\\t50,155,783\\t$5,790,678\\t11.54 cents\\n', '1890\\t62,979,766\\t$11,547,127\\t18.33 cents\\n', '1900\\t76,303,387\\t$11,854,000\\t15.54 cents\\n', '1910\\t91,972,266\\t$15,968,000\\t17.07 cents\\n', '1920\\t105,710,620\\t$25,117,000\\t23.76 cents\\n', '1930\\t122,775,046\\t$40,156,000\\t32.71 cents\\n', '1940\\t131,669,275\\t$67,527,000\\t51.29 cents\\n', '1950\\t151,325,798\\t$91,462,000\\t60.44 cents\\n', '1960\\t179,323,175\\t$127,934,000\\t71.34 cents\\n', '1970\\t203,302,031\\t$247,653,000\\t$1.22\\n', '1980\\t226,542,199\\t$1,078,488,000\\t$4.76\\n', '1990\\t248,718,301\\t$2,492,830,000\\t$10.02\\n', '2000\\t281,421,906\\t$4.5 Billion\\t$15.99\\n', '2010*\\t308,745,538\\t$13 Billion\\t$42.11']\n"
          ]
        }
      ]
    },
    {
      "cell_type": "code",
      "metadata": {
        "colab": {
          "base_uri": "https://localhost:8080/"
        },
        "id": "qYsGUYwbgsiz",
        "outputId": "c59c31fa-c59f-4622-aed2-afb8f4498d33"
      },
      "source": [
        "for line in linelist:\n",
        "  print(line)"
      ],
      "execution_count": 5,
      "outputs": [
        {
          "output_type": "stream",
          "name": "stdout",
          "text": [
            "Source: https://www.genealogybranches.com/censuscosts.html\n",
            "\n",
            "Census Year\tTotal Population\tCensus Cost\tAverage Cost Per Person\n",
            "\n",
            "1790\t3,929,214\t$44,377\t1.13 cents\n",
            "\n",
            "1800\t5,308,483\t$66,109\t1.24 cents\n",
            "\n",
            "1810\t7,239,881\t$178,445\t2.46 cents\n",
            "\n",
            "1820\t9,633,822\t$208,526\t2.16 cents\n",
            "\n",
            "1830\t12,866,020\t$378,545\t2.94 cents\n",
            "\n",
            "1840\t17,069,458\t$833,371\t4.88 cents\n",
            "\n",
            "1850\t23,191,876\t$1,423,351\t6.14 cents\n",
            "\n",
            "1860\t31,443,321\t$1,969,377\t6.26 cents\n",
            "\n",
            "1870\t38,558,371\t$3,421,198\t8.87 cents\n",
            "\n",
            "1880\t50,155,783\t$5,790,678\t11.54 cents\n",
            "\n",
            "1890\t62,979,766\t$11,547,127\t18.33 cents\n",
            "\n",
            "1900\t76,303,387\t$11,854,000\t15.54 cents\n",
            "\n",
            "1910\t91,972,266\t$15,968,000\t17.07 cents\n",
            "\n",
            "1920\t105,710,620\t$25,117,000\t23.76 cents\n",
            "\n",
            "1930\t122,775,046\t$40,156,000\t32.71 cents\n",
            "\n",
            "1940\t131,669,275\t$67,527,000\t51.29 cents\n",
            "\n",
            "1950\t151,325,798\t$91,462,000\t60.44 cents\n",
            "\n",
            "1960\t179,323,175\t$127,934,000\t71.34 cents\n",
            "\n",
            "1970\t203,302,031\t$247,653,000\t$1.22\n",
            "\n",
            "1980\t226,542,199\t$1,078,488,000\t$4.76\n",
            "\n",
            "1990\t248,718,301\t$2,492,830,000\t$10.02\n",
            "\n",
            "2000\t281,421,906\t$4.5 Billion\t$15.99\n",
            "\n",
            "2010*\t308,745,538\t$13 Billion\t$42.11\n"
          ]
        }
      ]
    },
    {
      "cell_type": "markdown",
      "metadata": {
        "id": "e3slQoQTdkOV"
      },
      "source": [
        "## Extract the first two lines and put them in a different list named \"top2_list\". You will need to use them later. Print the top2_list."
      ]
    },
    {
      "cell_type": "code",
      "metadata": {
        "colab": {
          "base_uri": "https://localhost:8080/"
        },
        "id": "b0t70adlbxZN",
        "outputId": "a5764380-5f36-4554-85e0-16393875607f"
      },
      "source": [
        "line = 0\n",
        "top2_list = []\n",
        "for lines in linelist:\n",
        "    if(line < 2):\n",
        "      top2_list.append(lines)\n",
        "    line +=1\n",
        "print(top2_list)"
      ],
      "execution_count": 6,
      "outputs": [
        {
          "output_type": "stream",
          "name": "stdout",
          "text": [
            "['Source: https://www.genealogybranches.com/censuscosts.html\\n', 'Census Year\\tTotal Population\\tCensus Cost\\tAverage Cost Per Person\\n']\n"
          ]
        }
      ]
    },
    {
      "cell_type": "markdown",
      "metadata": {
        "id": "rEWNMRyBgLsI"
      },
      "source": [
        "## Put the rest of the lines (containing useful data elements) in a new list named \"data_list\". Print data_list."
      ]
    },
    {
      "cell_type": "code",
      "metadata": {
        "colab": {
          "base_uri": "https://localhost:8080/"
        },
        "id": "FZMJ4nhHd2JZ",
        "outputId": "916b43db-af22-4260-a15d-6c280f22b112"
      },
      "source": [
        "line = 0\n",
        "data_list = []\n",
        "for lines in linelist:\n",
        "    if(line >= 2):\n",
        "      data_list.append(lines.split(\"\\t\"))\n",
        "    line +=1\n",
        "print(data_list)"
      ],
      "execution_count": 7,
      "outputs": [
        {
          "output_type": "stream",
          "name": "stdout",
          "text": [
            "[['1790', '3,929,214', '$44,377', '1.13 cents\\n'], ['1800', '5,308,483', '$66,109', '1.24 cents\\n'], ['1810', '7,239,881', '$178,445', '2.46 cents\\n'], ['1820', '9,633,822', '$208,526', '2.16 cents\\n'], ['1830', '12,866,020', '$378,545', '2.94 cents\\n'], ['1840', '17,069,458', '$833,371', '4.88 cents\\n'], ['1850', '23,191,876', '$1,423,351', '6.14 cents\\n'], ['1860', '31,443,321', '$1,969,377', '6.26 cents\\n'], ['1870', '38,558,371', '$3,421,198', '8.87 cents\\n'], ['1880', '50,155,783', '$5,790,678', '11.54 cents\\n'], ['1890', '62,979,766', '$11,547,127', '18.33 cents\\n'], ['1900', '76,303,387', '$11,854,000', '15.54 cents\\n'], ['1910', '91,972,266', '$15,968,000', '17.07 cents\\n'], ['1920', '105,710,620', '$25,117,000', '23.76 cents\\n'], ['1930', '122,775,046', '$40,156,000', '32.71 cents\\n'], ['1940', '131,669,275', '$67,527,000', '51.29 cents\\n'], ['1950', '151,325,798', '$91,462,000', '60.44 cents\\n'], ['1960', '179,323,175', '$127,934,000', '71.34 cents\\n'], ['1970', '203,302,031', '$247,653,000', '$1.22\\n'], ['1980', '226,542,199', '$1,078,488,000', '$4.76\\n'], ['1990', '248,718,301', '$2,492,830,000', '$10.02\\n'], ['2000', '281,421,906', '$4.5 Billion', '$15.99\\n'], ['2010*', '308,745,538', '$13 Billion', '$42.11']]\n"
          ]
        }
      ]
    },
    {
      "cell_type": "markdown",
      "metadata": {
        "id": "VYdR3bnwgnq7"
      },
      "source": [
        "## Extract the column \"Census Year\" from data_list and assign them to a list named year_list. Remove the \"\" from the last element \"2010\". Print the cleansed year_list.\n"
      ]
    },
    {
      "cell_type": "code",
      "metadata": {
        "colab": {
          "base_uri": "https://localhost:8080/"
        },
        "id": "Pv51YLP5ev9Q",
        "outputId": "c48230a6-8b52-4505-ab39-4f4b0c447dee"
      },
      "source": [
        "year_list = []\n",
        "for lin in data_list:\n",
        "  year_list.append(lin[0])\n",
        "print(year_list)\n",
        "year_list[-1] = year_list[-1].replace(\"*\", \"\")\n",
        "print(year_list) ##cleansed year list"
      ],
      "execution_count": 9,
      "outputs": [
        {
          "output_type": "stream",
          "name": "stdout",
          "text": [
            "['1790', '1800', '1810', '1820', '1830', '1840', '1850', '1860', '1870', '1880', '1890', '1900', '1910', '1920', '1930', '1940', '1950', '1960', '1970', '1980', '1990', '2000', '2010*']\n",
            "['1790', '1800', '1810', '1820', '1830', '1840', '1850', '1860', '1870', '1880', '1890', '1900', '1910', '1920', '1930', '1940', '1950', '1960', '1970', '1980', '1990', '2000', '2010']\n"
          ]
        }
      ]
    },
    {
      "cell_type": "markdown",
      "metadata": {
        "id": "g_Cackr6kBqg"
      },
      "source": [
        "## Extract the \"Total Population\" column from the data_list and assign them to a list named \"pop_list\". Remove the \",\" from the numbers since Python doesn't recognize them. Print the cleansed \"pop_list\"."
      ]
    },
    {
      "cell_type": "code",
      "metadata": {
        "colab": {
          "base_uri": "https://localhost:8080/"
        },
        "id": "WQa85SC4h9ix",
        "outputId": "894d308e-5cb3-4bfb-e1df-b4ed7e8afef3"
      },
      "source": [
        "pop_list = []\n",
        "for j in data_list:\n",
        "  pop_list.append(j[1].replace(\",\",\"\"))\n",
        "print(pop_list)\n"
      ],
      "execution_count": 10,
      "outputs": [
        {
          "output_type": "stream",
          "name": "stdout",
          "text": [
            "['3929214', '5308483', '7239881', '9633822', '12866020', '17069458', '23191876', '31443321', '38558371', '50155783', '62979766', '76303387', '91972266', '105710620', '122775046', '131669275', '151325798', '179323175', '203302031', '226542199', '248718301', '281421906', '308745538']\n"
          ]
        }
      ]
    },
    {
      "cell_type": "markdown",
      "metadata": {
        "id": "j-YVkDmflNu8"
      },
      "source": [
        "### Extract the \"Census Cost\" column from the data_list and assign them to a list named \"cost_list\". Remove the \",\", and \"$\", and \"Billion\". Make sure to add the \"0\"s to the numbers from which you removed \"Billion\". Print the cleansed cost_list."
      ]
    },
    {
      "cell_type": "code",
      "metadata": {
        "id": "W57fjit6jlNa",
        "colab": {
          "base_uri": "https://localhost:8080/"
        },
        "outputId": "8098bcc6-43cd-41a0-d0d1-180e4844aac6"
      },
      "source": [
        "cost_list = []\n",
        "for k in data_list:\n",
        "  cost_list.append((k[2].replace(\",\",\"\").replace(\"$\",\"\").replace(\" \",\"\").replace(\"Billion\",\"000000000\").replace(\".5\",\"50\"))) \n",
        "print(cost_list)"
      ],
      "execution_count": 11,
      "outputs": [
        {
          "output_type": "stream",
          "name": "stdout",
          "text": [
            "['44377', '66109', '178445', '208526', '378545', '833371', '1423351', '1969377', '3421198', '5790678', '11547127', '11854000', '15968000', '25117000', '40156000', '67527000', '91462000', '127934000', '247653000', '1078488000', '2492830000', '450000000000', '13000000000']\n"
          ]
        }
      ]
    },
    {
      "cell_type": "markdown",
      "metadata": {
        "id": "x7RXLAgRt5FL"
      },
      "source": [
        "## Extract the \"Average Cost per Person\" column from the data_list and assign them to a list named \"avg_list\". Remove the \"cents\", and \"$\". Make sure to divide the numbers in cents by 100 so that all numbers are measured in dollar. Print the cleansed avg_list."
      ]
    },
    {
      "cell_type": "code",
      "metadata": {
        "colab": {
          "base_uri": "https://localhost:8080/"
        },
        "id": "9HDUtj_HmW9h",
        "outputId": "3b7dc226-d983-4a92-a826-7dfba61b9d4a"
      },
      "source": [
        "avg_list = []\n",
        "c_avg_list= []\n",
        "for y in data_list:\n",
        "  avg_list.append(y[3].replace(\"\\n\",\"\"))\n",
        "print(avg_list)\n",
        "\n",
        "for u in avg_list:\n",
        "  if(\"cents\" in u):\n",
        "    u = u.replace('cents','')\n",
        "    u = float(u)\n",
        "    u = u/100\n",
        "  else:\n",
        "    u = u.replace(\"$\", \"\")\n",
        "  u = str(u)\n",
        "  c_avg_list.append(u)\n",
        "print(c_avg_list)"
      ],
      "execution_count": 12,
      "outputs": [
        {
          "output_type": "stream",
          "name": "stdout",
          "text": [
            "['1.13 cents', '1.24 cents', '2.46 cents', '2.16 cents', '2.94 cents', '4.88 cents', '6.14 cents', '6.26 cents', '8.87 cents', '11.54 cents', '18.33 cents', '15.54 cents', '17.07 cents', '23.76 cents', '32.71 cents', '51.29 cents', '60.44 cents', '71.34 cents', '$1.22', '$4.76', '$10.02', '$15.99', '$42.11']\n",
            "['0.0113', '0.0124', '0.0246', '0.0216', '0.0294', '0.048799999999999996', '0.061399999999999996', '0.0626', '0.08869999999999999', '0.11539999999999999', '0.1833', '0.15539999999999998', '0.1707', '0.2376', '0.3271', '0.5129', '0.6043999999999999', '0.7134', '1.22', '4.76', '10.02', '15.99', '42.11']\n"
          ]
        }
      ]
    },
    {
      "cell_type": "markdown",
      "metadata": {
        "id": "FARliz2lw7LI"
      },
      "source": [
        "## Coalesce the cleansed data and save them to a text file named \"census_cost.csv\". The new file should look similar to the original source file except that it is in comma-delimited format and the numbers have been cleansed. The top two lines from the original file should be retained in the new file"
      ]
    },
    {
      "cell_type": "code",
      "metadata": {
        "colab": {
          "base_uri": "https://localhost:8080/"
        },
        "id": "mLf2AlbuuHLW",
        "outputId": "4cbb64da-b1dc-41f3-ef8a-bd08d3dd1abb"
      },
      "source": [
        "output = top2_list\n",
        "\n",
        "for j in range(0,len(data_list)):\n",
        "  total = year_list[j] + \" \" + pop_list[j] + \" \"  + cost_list[j] + \"  \" + c_avg_list[j]\n",
        "  output.append(total)\n",
        "print(output)"
      ],
      "execution_count": 13,
      "outputs": [
        {
          "output_type": "stream",
          "name": "stdout",
          "text": [
            "['Source: https://www.genealogybranches.com/censuscosts.html\\n', 'Census Year\\tTotal Population\\tCensus Cost\\tAverage Cost Per Person\\n', '1790 3929214 44377  0.0113', '1800 5308483 66109  0.0124', '1810 7239881 178445  0.0246', '1820 9633822 208526  0.0216', '1830 12866020 378545  0.0294', '1840 17069458 833371  0.048799999999999996', '1850 23191876 1423351  0.061399999999999996', '1860 31443321 1969377  0.0626', '1870 38558371 3421198  0.08869999999999999', '1880 50155783 5790678  0.11539999999999999', '1890 62979766 11547127  0.1833', '1900 76303387 11854000  0.15539999999999998', '1910 91972266 15968000  0.1707', '1920 105710620 25117000  0.2376', '1930 122775046 40156000  0.3271', '1940 131669275 67527000  0.5129', '1950 151325798 91462000  0.6043999999999999', '1960 179323175 127934000  0.7134', '1970 203302031 247653000  1.22', '1980 226542199 1078488000  4.76', '1990 248718301 2492830000  10.02', '2000 281421906 450000000000  15.99', '2010 308745538 13000000000  42.11']\n"
          ]
        }
      ]
    },
    {
      "cell_type": "markdown",
      "metadata": {
        "id": "ueFM3EJczfPM"
      },
      "source": [
        "## Write code to open the newly-created file \"census_cost.csv\", read all lines and display them. How does it look?\n"
      ]
    },
    {
      "cell_type": "code",
      "metadata": {
        "id": "gcfIQYady59Y"
      },
      "source": [
        "import csv\n",
        "with open(\"census_cost.csv\",\"w\") as f:\n",
        "  for k in output:\n",
        "    f.write(k)"
      ],
      "execution_count": 14,
      "outputs": []
    },
    {
      "cell_type": "code",
      "metadata": {
        "colab": {
          "base_uri": "https://localhost:8080/"
        },
        "id": "Te9NtaFWw8GI",
        "outputId": "0bafc976-5925-4b57-b4f7-ec2bf416a137"
      },
      "source": [
        "with open(\"/content/census_cost.csv\", \"r\") as f:\n",
        "  linelist = f.readlines()\n",
        "print(linelist)"
      ],
      "execution_count": 15,
      "outputs": [
        {
          "output_type": "stream",
          "name": "stdout",
          "text": [
            "['Source: https://www.genealogybranches.com/censuscosts.html\\n', 'Census Year\\tTotal Population\\tCensus Cost\\tAverage Cost Per Person\\n', '1790 3929214 44377  0.01131800 5308483 66109  0.01241810 7239881 178445  0.02461820 9633822 208526  0.02161830 12866020 378545  0.02941840 17069458 833371  0.0487999999999999961850 23191876 1423351  0.0613999999999999961860 31443321 1969377  0.06261870 38558371 3421198  0.088699999999999991880 50155783 5790678  0.115399999999999991890 62979766 11547127  0.18331900 76303387 11854000  0.155399999999999981910 91972266 15968000  0.17071920 105710620 25117000  0.23761930 122775046 40156000  0.32711940 131669275 67527000  0.51291950 151325798 91462000  0.60439999999999991960 179323175 127934000  0.71341970 203302031 247653000  1.221980 226542199 1078488000  4.761990 248718301 2492830000  10.022000 281421906 450000000000  15.992010 308745538 13000000000  42.11']\n"
          ]
        }
      ]
    }
  ]
}