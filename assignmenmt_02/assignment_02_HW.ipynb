{
  "nbformat": 4,
  "nbformat_minor": 0,
  "metadata": {
    "colab": {
      "name": "assignment_02_HW.ipynb",
      "provenance": [],
      "collapsed_sections": [],
      "authorship_tag": "ABX9TyPAIWWHXyn48ffJdl107b9E",
      "include_colab_link": true
    },
    "kernelspec": {
      "name": "python3",
      "display_name": "Python 3"
    },
    "language_info": {
      "name": "python"
    }
  },
  "cells": [
    {
      "cell_type": "markdown",
      "metadata": {
        "id": "view-in-github",
        "colab_type": "text"
      },
      "source": [
        "<a href=\"https://colab.research.google.com/github/jeevan0603/data690_jeevan/blob/main/assignmenmt_02/assignment_02_HW.ipynb\" target=\"_parent\"><img src=\"https://colab.research.google.com/assets/colab-badge.svg\" alt=\"Open In Colab\"/></a>"
      ]
    },
    {
      "cell_type": "markdown",
      "metadata": {
        "id": "z_BGxS3fIk-W"
      },
      "source": [
        "# 1. Prompt user to enter integer only and display 10 integers "
      ]
    },
    {
      "cell_type": "code",
      "metadata": {
        "colab": {
          "base_uri": "https://localhost:8080/"
        },
        "id": "jEXXzx6PAEkZ",
        "outputId": "05f0154a-ab75-4694-95bf-6f028cfc2e1a"
      },
      "source": [
        "my_list = []\n",
        "\n",
        "for i in range(10):\n",
        "  while True:\n",
        "    y = input(\"Enter an integer: \")\n",
        "    try:\n",
        "      x = int(y)\n",
        "      my_list.append(x)\n",
        "      print(x , \"is an integer\")\n",
        "      break\n",
        "    except:\n",
        "      print(\"Entered String. Please enter integer\")\n",
        "\n",
        "print(\"Entered integers are \", my_list) # Display all entered integers"
      ],
      "execution_count": null,
      "outputs": [
        {
          "output_type": "stream",
          "name": "stdout",
          "text": [
            "Enter an integer: 5\n",
            "5 is an integer\n",
            "Enter an integer: ff\n",
            "Entered String. Please enter integer\n",
            "Enter an integer: 56\n",
            "56 is an integer\n",
            "Enter an integer: ge\n",
            "Entered String. Please enter integer\n",
            "Enter an integer: 3g3\n",
            "Entered String. Please enter integer\n",
            "Enter an integer: 3r\n",
            "Entered String. Please enter integer\n",
            "Enter an integer: 33\n",
            "33 is an integer\n",
            "Enter an integer: 55\n",
            "55 is an integer\n",
            "Enter an integer: 33\n",
            "33 is an integer\n",
            "Enter an integer: 6635\n",
            "6635 is an integer\n",
            "Enter an integer: 35\n",
            "35 is an integer\n",
            "Enter an integer: 2\n",
            "2 is an integer\n",
            "Enter an integer: 5\n",
            "5 is an integer\n",
            "Enter an integer: 25\n",
            "25 is an integer\n",
            "Entered integers are  [5, 56, 33, 55, 33, 6635, 35, 2, 5, 25]\n"
          ]
        }
      ]
    },
    {
      "cell_type": "markdown",
      "metadata": {
        "id": "5z2gUQ3UUFjp"
      },
      "source": [
        "# 2. Minimum value"
      ]
    },
    {
      "cell_type": "code",
      "metadata": {
        "colab": {
          "base_uri": "https://localhost:8080/"
        },
        "id": "7PhuptfJUE95",
        "outputId": "f854d46e-7aa0-420e-caee-0dbec61c8f57"
      },
      "source": [
        "min = my_list[0]\n",
        "for i in range(len(my_list)):\n",
        "  if(my_list[i]<min):\n",
        "    min = my_list[i]\n",
        "\n",
        "print(min) # print minimum integer in the list"
      ],
      "execution_count": null,
      "outputs": [
        {
          "output_type": "stream",
          "name": "stdout",
          "text": [
            "2\n"
          ]
        }
      ]
    },
    {
      "cell_type": "markdown",
      "metadata": {
        "id": "g6fheCcxV1pM"
      },
      "source": [
        "# 3. Maximum Value\n"
      ]
    },
    {
      "cell_type": "code",
      "metadata": {
        "colab": {
          "base_uri": "https://localhost:8080/"
        },
        "id": "0FfFyGn7WllA",
        "outputId": "327e8385-a1db-489c-b6d0-306ed49945c5"
      },
      "source": [
        "max = my_list[0]\n",
        "for i in range(len(my_list)):\n",
        "  if(my_list[i]>max):\n",
        "    max = my_list[i]\n",
        "\n",
        "print(max) # print maximum integer in the list"
      ],
      "execution_count": null,
      "outputs": [
        {
          "output_type": "stream",
          "name": "stdout",
          "text": [
            "6635\n"
          ]
        }
      ]
    },
    {
      "cell_type": "markdown",
      "metadata": {
        "id": "gqgV98CgXYri"
      },
      "source": [
        "# 4. Range\n",
        "\n"
      ]
    },
    {
      "cell_type": "code",
      "metadata": {
        "colab": {
          "base_uri": "https://localhost:8080/"
        },
        "id": "3_85EBz_Xb1t",
        "outputId": "d00bdb86-50bc-447a-d45e-bb42f3c42dd0"
      },
      "source": [
        "range = max-min. # Range is differnce of maximum and minimum in the list\n",
        "print(\"Range of list is \", range)"
      ],
      "execution_count": null,
      "outputs": [
        {
          "output_type": "stream",
          "name": "stdout",
          "text": [
            "Range of list is  6633\n"
          ]
        }
      ]
    },
    {
      "cell_type": "markdown",
      "metadata": {
        "id": "NpdnMFuNZ_rd"
      },
      "source": [
        "# 5. Mean"
      ]
    },
    {
      "cell_type": "code",
      "metadata": {
        "colab": {
          "base_uri": "https://localhost:8080/"
        },
        "id": "Gvg_E_IKaLBv",
        "outputId": "61f6519c-061b-44c1-adf0-e14a0758f8d8"
      },
      "source": [
        "sum = 0\n",
        "for j in my_list:\n",
        "  sum += j\n",
        "mean = sum/len(my_list) # mean is sum of values in the list divided by number of values\n",
        "print(\"Mean is\", mean)"
      ],
      "execution_count": null,
      "outputs": [
        {
          "output_type": "stream",
          "name": "stdout",
          "text": [
            "Mean is 688.4\n"
          ]
        }
      ]
    },
    {
      "cell_type": "markdown",
      "metadata": {
        "id": "ZGcxayCMvqHY"
      },
      "source": [
        "# 6. Variance\n"
      ]
    },
    {
      "cell_type": "code",
      "metadata": {
        "colab": {
          "base_uri": "https://localhost:8080/"
        },
        "id": "bFULRQJIv1tn",
        "outputId": "d47c54ee-791d-45f1-cc98-3562043e7a7d"
      },
      "source": [
        "for i in my_list:\n",
        "  i = i - mean\n",
        "\n",
        "squares = 0\n",
        "for i in my_list:\n",
        "  squares += i * i\n",
        "\n",
        "variance = squares/len(my_list) # variance is sum of squares if values divided by number of values\n",
        "print(\"variance is \", variance)"
      ],
      "execution_count": null,
      "outputs": [
        {
          "output_type": "stream",
          "name": "stdout",
          "text": [
            "variance is  3537229.4560000002\n"
          ]
        }
      ]
    },
    {
      "cell_type": "markdown",
      "metadata": {
        "id": "kUeziGxeyHl1"
      },
      "source": [
        "# 7. Standard deviation\n"
      ]
    },
    {
      "cell_type": "code",
      "metadata": {
        "colab": {
          "base_uri": "https://localhost:8080/"
        },
        "id": "Iq9zLEppyMCw",
        "outputId": "df5b44ce-fa34-461d-91e8-66a4bf761e8b"
      },
      "source": [
        "sd = variance ** 0.5 # standard deviation is square root of variance\n",
        "print(\"Standard deviation is\", sd)"
      ],
      "execution_count": null,
      "outputs": [
        {
          "output_type": "stream",
          "name": "stdout",
          "text": [
            "1880.7523643478426\n"
          ]
        }
      ]
    }
  ]
}